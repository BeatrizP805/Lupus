{
  "nbformat": 4,
  "nbformat_minor": 0,
  "metadata": {
    "colab": {
      "provenance": []
    },
    "kernelspec": {
      "name": "python3",
      "display_name": "Python 3"
    },
    "language_info": {
      "name": "python"
    }
  },
  "cells": [
    {
      "cell_type": "markdown",
      "source": [
        "# Title\n",
        "Systemic Lupus Erythematosus"
      ],
      "metadata": {
        "id": "ND4GFP9Cr7gh"
      }
    },
    {
      "cell_type": "markdown",
      "source": [
        "The article “The geoepidemiology of systemic lupus erythematosus” discusses systemic lupus erythematosus (SLE), an autoimmune disease that affects primarily women, but can also affect young kids with symptoms starting at early age of 12. It mentions that SLE is less common in Europeans and their descendants compared to other ethnicities. The clinical manifestations and severity of SLE vary geographically and among different ethnic groups. Non-European patients, for example, tend to have a higher prevalence of renal involvement. The article suggests that genetic, environmental, sociodemographic, and sociocultural factors contribute to the differences in the incidence and clinical expression of SLE.\n",
        "\n",
        "\n",
        "Systemic Lupus Erythematosus  is a chronic autoimmune disease that affects multiple organs and is characterized by various immunological abnormalities. While there is a genetic component to lupus susceptibility, environmental factors are believed to play a role in triggering the disease. Systemic Lupus Erythematosus can range in severity, from mild skin involvement to severe organ damage, and its activity can fluctuate between disease flares and remission periods. The clinical presentation of Systemic Lupus Erythematosus varies not only between individuals but also across different populations. Disease activity and organ damage also show geographic and ethnic variation.\n",
        "\n",
        "\n",
        "Another form of Lupus is Drug Induced Lupus. This lupus-like illness can crop up in people who take certain medications for a long time. Drug Induced Lupus is fairly rare in children, and when it occurs the most common culprit is the acne drug minocycline. Drug Induced Lupus has some of the same symptoms of lupus fever, fatigue, joint and muscle stiffness but doesn’t tend to affect vital organs. Symptoms usually disappear within a few weeks after the “triggering” medication is stopped.\n",
        "\n",
        "\n",
        "Neonatal Lupus is another form of Lupus. This temporary form of lupus affects a small percentage of infants whose mothers have certain lupus autoantibodies. It begins before birth, when these autoantibodies reach the baby via the placenta, and ends within the first several months of life, as the autoantibodies disappear from the baby’s system. The symptoms of skin rash, low blood cell counts are likewise temporary. However, neonatal lupus does have the potential to cause permanent damage to the baby’s heart. If the heart block is significant, a baby may need a pacemaker.\n",
        "\n",
        "\n",
        "Lupus is known as “the great imitator” because its common earliest warning signs are similar to any other common illnesses. With Lupus, symptoms can come and go, new ones may rise, while others disappear. Symptoms do range from person to person. Symptoms of Lupus are fatigue, loss of appetite, weight loss, swollen or achy joints, muscle aches, fever, skin rashes, unusual hair loss, ulcers in mouth or nose, and fingers that can turn white and blue.\n",
        "\n",
        "\n",
        "Diagnosing Lupus requires the expertise of Rheumatologists. Rheumatologists are specialists that are qualified to sort out the signs and symptoms of Lupus along with other diseases.\n",
        "\n",
        "\n",
        "Between 30%-50% of those diagnosed with Lupus will develop kidney disease, also known as Lupus nephritis. Lupus nephritis is a type of kidney disease caused by Systemic Lupus Erythematosus. A form of treatment for Lupus nephritis can include immunosuppressive drugs. Life expectancy for Lupus nephritis depends on the severity of the symptoms and how well someone responds to the medication. Treatment for Lupus nephritis is very effective and about 80%-90% of people with the disease will have a normal life expectancy.\n",
        "\n",
        "\n",
        "With lupus, doctors can’t predict what part of the body the immune system will choose to strike, or when. But they can use medications to help prevent or blunt these attacks and to extinguish the harmful inflammation. There are powerful medications that can bring this illness under control often permanently in the majority of children and allow them to lead full, relatively normal lives.\n",
        "\n",
        "\n",
        "About 80%-90% of people with Lupus can expect to live a normal life span. The majority of people with Lupus can expect a normal lifespan with early diagnosis, treatment, and monitoring. However, there is a small percentage of people with Lupus who may die prematurely if any complications arise.\n",
        "\n",
        "\n",
        "It's important to note that the comparison of disease activity among different populations has been facilitated by standardized tools like the Systemic Lupus Erythematosus Disease Activity Index (SLEDAI). These tools help assess disease activity and monitor the progression of Systemic Lupus Erythematosus.\n",
        "\n",
        "\n",
        "\n",
        "\n",
        "\n",
        "\n"
      ],
      "metadata": {
        "id": "AArrikMir9TN"
      }
    },
    {
      "cell_type": "code",
      "source": [],
      "metadata": {
        "id": "J1YR5NL4sOHP"
      },
      "execution_count": null,
      "outputs": []
    }
  ]
}